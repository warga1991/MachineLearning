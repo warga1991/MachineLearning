{
 "cells": [
  {
   "attachments": {},
   "cell_type": "markdown",
   "metadata": {},
   "source": [
    "Competition on DataCamp"
   ]
  },
  {
   "cell_type": "code",
   "execution_count": null,
   "metadata": {},
   "outputs": [],
   "source": [
    "import matplotlib.pyplot as plt\n",
    "import numpy as np\n",
    "import pandas as pd\n",
    "import seaborn as sns\n",
    "from sklearn.model_selection import train_test_split\n",
    "from sklearn.ensemble import RandomForestRegressor\n",
    "from sklearn.preprocessing import StandardScaler\n",
    "from sklearn.tree import DecisionTreeRegressor\n",
    "from sklearn.metrics import mean_squared_error\n",
    "import tensorflow as tf\n",
    "\n",
    "spotify = pd.read_csv('spotify.csv')\n",
    "print(spotify.shape)\n",
    "spotify.head()"
   ]
  },
  {
   "cell_type": "code",
   "execution_count": null,
   "metadata": {},
   "outputs": [],
   "source": [
    "spotify.dtypes"
   ]
  },
  {
   "attachments": {},
   "cell_type": "markdown",
   "metadata": {},
   "source": [
    "check if there are duplicates"
   ]
  },
  {
   "cell_type": "code",
   "execution_count": null,
   "metadata": {},
   "outputs": [],
   "source": [
    "duplicated = spotify[spotify['track_id'].duplicated(keep = False)]\n",
    "#print(duplicated.shape)\n",
    "duplicated.groupby('track_id')['track_id'].count()"
   ]
  },
  {
   "attachments": {},
   "cell_type": "markdown",
   "metadata": {},
   "source": [
    "remove duplicate elements"
   ]
  },
  {
   "cell_type": "code",
   "execution_count": null,
   "metadata": {},
   "outputs": [],
   "source": [
    "spotify = spotify[spotify['track_id'].duplicated(keep = 'first') == False]\n",
    "spotify.dropna(inplace=True)\n",
    "spotify = spotify.set_index('track_id')\n",
    "spotify"
   ]
  },
  {
   "cell_type": "code",
   "execution_count": null,
   "metadata": {},
   "outputs": [],
   "source": [
    "numeric_df = spotify.select_dtypes(exclude='object')\n",
    "data = numeric_df.values\n",
    "\n",
    "scaler = StandardScaler()\n",
    "data_scaled = scaler.fit_transform(data)\n",
    "\n",
    "scaled_numeric_df = pd.DataFrame(data_scaled, columns=numeric_df.columns)\n",
    "scaled_numeric_df.head()\n",
    "\n",
    "dataplot = sns.heatmap(scaled_numeric_df.corr(), cmap=\"YlGnBu\", annot=True)\n",
    "sns.set(rc={'figure.figsize':(17,17)})\n",
    "plt.show()"
   ]
  },
  {
   "attachments": {},
   "cell_type": "markdown",
   "metadata": {},
   "source": [
    "random forest"
   ]
  },
  {
   "cell_type": "code",
   "execution_count": null,
   "metadata": {},
   "outputs": [],
   "source": [
    "N = 5  #top feature num"
   ]
  },
  {
   "cell_type": "code",
   "execution_count": null,
   "metadata": {},
   "outputs": [],
   "source": [
    "scaled_numeric_df_wo_d = scaled_numeric_df.drop(columns=['danceability'])"
   ]
  },
  {
   "cell_type": "code",
   "execution_count": null,
   "metadata": {},
   "outputs": [],
   "source": [
    "X = scaled_numeric_df_wo_d\n",
    "y = scaled_numeric_df['danceability']"
   ]
  },
  {
   "cell_type": "code",
   "execution_count": null,
   "metadata": {},
   "outputs": [],
   "source": [
    "X_train, X_test, y_train, y_test = train_test_split(X, y, test_size=0.2, random_state=42)\n",
    "\n",
    "rf_regressor = RandomForestRegressor(n_estimators=50, random_state=42)\n",
    "\n",
    "rf_regressor.fit(X_train, y_train)\n",
    "feature_importances = rf_regressor.feature_importances_\n",
    "\n",
    "feature_importance_df = pd.DataFrame({'Feature': X.columns, 'Importance': feature_importances})\n",
    "feature_importance_df = feature_importance_df.sort_values(by='Importance', ascending=False)\n",
    "\n",
    "top_features = feature_importance_df.head(N)\n",
    "\n",
    "print(f\"Top {N} Important Features:\")\n",
    "print(top_features)\n",
    "\n",
    "plt.figure(figsize=(10, 6))\n",
    "plt.barh(top_features['Feature'], top_features['Importance'])\n",
    "plt.xlabel('Importance')\n",
    "plt.title('Top Features for Predicting Target (Random Forest)')\n",
    "plt.gca().invert_yaxis()\n",
    "plt.show()"
   ]
  },
  {
   "attachments": {},
   "cell_type": "markdown",
   "metadata": {},
   "source": [
    "create model -- valence seems the best"
   ]
  },
  {
   "cell_type": "code",
   "execution_count": null,
   "metadata": {},
   "outputs": [],
   "source": [
    "used_features = ['valence', 'loudness', 'acousticness', 'tempo', 'track_genre']"
   ]
  },
  {
   "cell_type": "code",
   "execution_count": null,
   "metadata": {},
   "outputs": [],
   "source": [
    "X = scaled_numeric_df[used_features].values\n",
    "y = scaled_numeric_df['danceability'].values\n",
    "X_train, X_test, y_train, y_test = train_test_split(X, y, test_size=0.2, random_state=42)"
   ]
  },
  {
   "cell_type": "code",
   "execution_count": null,
   "metadata": {},
   "outputs": [],
   "source": [
    "model = tf.keras.Sequential([\n",
    "    tf.keras.layers.Input(shape=(4,)),  \n",
    "    tf.keras.layers.Dense(128, activation='relu'), \n",
    "    tf.keras.layers.Dense(64, activation='relu'),  \n",
    "    tf.keras.layers.Dense(32, activation='relu'),  \n",
    "    tf.keras.layers.Dense(1) \n",
    "])\n",
    "\n",
    "model.compile(optimizer='adam', loss='mse')"
   ]
  },
  {
   "cell_type": "code",
   "execution_count": null,
   "metadata": {},
   "outputs": [],
   "source": [
    "model.fit(X_train, y_train, epochs=10, verbose=0, validation_data=(X_test, y_test))"
   ]
  },
  {
   "cell_type": "code",
   "execution_count": null,
   "metadata": {},
   "outputs": [],
   "source": [
    "loss = model.evaluate(X_test, y_test)\n",
    "print(f'Test Loss: {loss}')"
   ]
  },
  {
   "attachments": {},
   "cell_type": "markdown",
   "metadata": {},
   "source": [
    "predict"
   ]
  },
  {
   "cell_type": "code",
   "execution_count": null,
   "metadata": {},
   "outputs": [],
   "source": [
    "to_predict = scaled_numeric_df[used_features + ['danceability']].sample(n = 100, random_state=2)\n",
    "X_predict = to_predict[used_features].values\n",
    "y_result = []\n",
    "for i, row in enumerate(X_predict):\n",
    "    tmp = model.predict(row.reshape(1, 4), verbose=0)\n",
    "    y_result.append([tmp, to_predict.iloc[i].at['danceability']])"
   ]
  },
  {
   "cell_type": "code",
   "execution_count": null,
   "metadata": {},
   "outputs": [],
   "source": [
    "acc_array = np.array(y_result)\n",
    "ind = np.argsort(-acc_array[:,0]) # Reverse order\n",
    "sorted = acc_array[ind]\n",
    "\n",
    "# summarize history for accuracy\n",
    "plt.plot(sorted[:,0] , label = 'Real values')\n",
    "plt.plot(sorted[:,1], label =  'Prediction')\n",
    "plt.title('Test Accuracy')\n",
    "plt.ylabel('Values')\n",
    "plt.xlabel('Datapoints')\n",
    "plt.legend(loc='upper left')\n",
    "plt.show()"
   ]
  },
  {
   "attachments": {},
   "cell_type": "markdown",
   "metadata": {},
   "source": [
    "decision tree regressor"
   ]
  },
  {
   "cell_type": "code",
   "execution_count": null,
   "metadata": {},
   "outputs": [],
   "source": [
    "regressor = DecisionTreeRegressor(min_samples_split=10, random_state=42)\n",
    "regressor.fit(X_train, y_train)\n",
    "\n",
    "# Predict danceability scores on the testing set\n",
    "y_pred = regressor.predict(X_test)\n",
    "\n",
    "# Evaluate the model (you can use any regression metric you prefer)\n",
    "mse = mean_squared_error(y_test, y_pred)\n",
    "print(f'Mean Squared Error: {mse}')"
   ]
  },
  {
   "cell_type": "code",
   "execution_count": null,
   "metadata": {},
   "outputs": [],
   "source": [
    "y_result_dcr = []\n",
    "for i, row in enumerate(X_predict):\n",
    "    tmp = regressor.predict(row.reshape(1, 4))\n",
    "    y_result_dcr.append([tmp, to_predict.iloc[i].at['danceability']])"
   ]
  },
  {
   "cell_type": "code",
   "execution_count": null,
   "metadata": {},
   "outputs": [],
   "source": [
    "acc_array = np.array(y_result)\n",
    "ind = np.argsort(-acc_array[:,0]) # Reverse order\n",
    "sorted = acc_array[ind]\n",
    "\n",
    "# summarize history for accuracy\n",
    "plt.plot(sorted[:,0] , label = 'Real values')\n",
    "plt.plot(sorted[:,1], label =  'Prediction')\n",
    "plt.title('Test Accuracy')\n",
    "plt.ylabel('Values')\n",
    "plt.xlabel('Datapoints')\n",
    "plt.legend(loc='upper left')\n",
    "plt.show()"
   ]
  },
  {
   "attachments": {},
   "cell_type": "markdown",
   "metadata": {},
   "source": [
    "limiting tempo"
   ]
  },
  {
   "cell_type": "code",
   "execution_count": null,
   "metadata": {},
   "outputs": [],
   "source": [
    "spotify = spotify[spotify['tempo'] >= 116]\n",
    "spotify = spotify[spotify['tempo'] <= 140]"
   ]
  },
  {
   "cell_type": "code",
   "execution_count": null,
   "metadata": {},
   "outputs": [],
   "source": [
    "spotify.shape"
   ]
  },
  {
   "cell_type": "code",
   "execution_count": null,
   "metadata": {},
   "outputs": [],
   "source": [
    "sns.scatterplot(data=spotify, x='danceability', y='valence')\n",
    "sns.set(rc={'figure.figsize':(10,10)})\n",
    "plt.show()"
   ]
  },
  {
   "cell_type": "code",
   "execution_count": null,
   "metadata": {},
   "outputs": [],
   "source": [
    "sns.scatterplot(data=spotify, x='danceability', y='loudness')\n",
    "plt.show()"
   ]
  },
  {
   "cell_type": "code",
   "execution_count": null,
   "metadata": {},
   "outputs": [],
   "source": [
    "sns.scatterplot(data=spotify, x='danceability', y='acousticness')\n",
    "plt.show()"
   ]
  }
 ],
 "metadata": {
  "kernelspec": {
   "display_name": "Python 3",
   "language": "python",
   "name": "python3"
  },
  "language_info": {
   "codemirror_mode": {
    "name": "ipython",
    "version": 3
   },
   "file_extension": ".py",
   "mimetype": "text/x-python",
   "name": "python",
   "nbconvert_exporter": "python",
   "pygments_lexer": "ipython3",
   "version": "3.11.2"
  },
  "orig_nbformat": 4,
  "vscode": {
   "interpreter": {
    "hash": "0a14426722b25adc768cfea782f621c901ff82b6a9f568e699338819587caab5"
   }
  }
 },
 "nbformat": 4,
 "nbformat_minor": 2
}
