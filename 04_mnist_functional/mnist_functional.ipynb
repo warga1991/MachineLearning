{
 "cells": [
  {
   "attachments": {},
   "cell_type": "markdown",
   "metadata": {},
   "source": [
    "Import necessary libraries"
   ]
  },
  {
   "cell_type": "code",
   "execution_count": null,
   "metadata": {},
   "outputs": [],
   "source": [
    "import tensorflow as tf\n",
    "from tensorflow.keras.layers import Input, Conv2D, MaxPooling2D, Flatten, Dense\n",
    "from tensorflow.keras.models import Model\n",
    "from tensorflow.keras.datasets import mnist\n",
    "from tensorflow.keras.utils import to_categorical\n",
    "import matplotlib.pyplot as plt"
   ]
  },
  {
   "attachments": {},
   "cell_type": "markdown",
   "metadata": {},
   "source": [
    "Load and preprocess dataset"
   ]
  },
  {
   "cell_type": "code",
   "execution_count": null,
   "metadata": {},
   "outputs": [],
   "source": [
    "(x_train, y_train), (x_test, y_test) = tf.keras.datasets.mnist.load_data()\n",
    "x_train = x_train.reshape(-1, 28, 28, 1).astype('float32') / 255.0\n",
    "x_test = x_test.reshape(-1, 28, 28, 1).astype('float32') / 255.0\n",
    "y_train = to_categorical(y_train, 10)\n",
    "y_test = to_categorical(y_test, 10)"
   ]
  },
  {
   "attachments": {},
   "cell_type": "markdown",
   "metadata": {},
   "source": [
    "Create fully connected network layers"
   ]
  },
  {
   "cell_type": "code",
   "execution_count": null,
   "metadata": {},
   "outputs": [],
   "source": [
    "input_layer_fc = Input(shape=(28, 28, 1))\n",
    "flatten_fc = Flatten()(input_layer_fc)\n",
    "dense1_fc = Dense(128, activation='relu')(flatten_fc)\n",
    "dense2_fc = Dense(64, activation='relu')(dense1_fc)\n",
    "output_layer_fc = Dense(10, activation='softmax')(dense2_fc)\n",
    "fc_model = tf.keras.Model(inputs=input_layer_fc, outputs=output_layer_fc)\n",
    "fc_model.compile(optimizer='adam', loss='categorical_crossentropy', metrics=['accuracy'])"
   ]
  },
  {
   "attachments": {},
   "cell_type": "markdown",
   "metadata": {},
   "source": [
    "Create CNN layers"
   ]
  },
  {
   "cell_type": "code",
   "execution_count": null,
   "metadata": {},
   "outputs": [],
   "source": [
    "input_layer_cnn = Input(shape=(28, 28, 1))\n",
    "conv1 = Conv2D(32, (3, 3), activation='relu')(input_layer_cnn)\n",
    "pool1 = MaxPooling2D((2, 2))(conv1)\n",
    "conv2 = Conv2D(64, (3, 3), activation='relu')(pool1)\n",
    "pool2 = MaxPooling2D((2, 2))(conv2)\n",
    "flatten_cnn = Flatten()(pool2)\n",
    "dense1_cnn = Dense(128, activation='relu')(flatten_cnn)\n",
    "output_layer_cnn = Dense(10, activation='softmax')(dense1_cnn)\n",
    "cnn_model = tf.keras.Model(inputs=input_layer_cnn, outputs=output_layer_cnn)\n",
    "cnn_model.compile(optimizer='adam', loss='categorical_crossentropy', metrics=['accuracy'])"
   ]
  },
  {
   "attachments": {},
   "cell_type": "markdown",
   "metadata": {},
   "source": [
    "Train model"
   ]
  },
  {
   "cell_type": "code",
   "execution_count": null,
   "metadata": {},
   "outputs": [],
   "source": [
    "fc_train_loss_history = []\n",
    "fc_train_accuracy_history = []\n",
    "fc_val_loss_history = []\n",
    "fc_val_accuracy_history = []\n",
    "\n",
    "cnn_train_loss_history = []\n",
    "cnn_train_accuracy_history = []\n",
    "cnn_val_loss_history = []\n",
    "cnn_val_accuracy_history = []\n",
    "\n",
    "for epoch in range(5):\n",
    "    fc_history = fc_model.fit(x_train, y_train, epochs=1, batch_size=32, validation_data=(x_test, y_test))\n",
    "    cnn_history = cnn_model.fit(x_train, y_train, epochs=1, batch_size=32, validation_data=(x_test, y_test))\n",
    "\n",
    "    fc_train_accuracy_history.append(fc_history.history['accuracy'][0])\n",
    "    cnn_train_accuracy_history.append(cnn_history.history['accuracy'][0])\n",
    "\n",
    "    fc_val_accuracy_history.append(fc_history.history['val_accuracy'][0])\n",
    "    cnn_val_accuracy_history.append(cnn_history.history['val_accuracy'][0])"
   ]
  },
  {
   "attachments": {},
   "cell_type": "markdown",
   "metadata": {},
   "source": [
    "Show results"
   ]
  },
  {
   "cell_type": "code",
   "execution_count": null,
   "metadata": {},
   "outputs": [],
   "source": [
    "plt.figure(figsize=(12, 4))\n",
    "plt.subplot(1, 2, 1)\n",
    "plt.plot(range(1, 6), fc_train_accuracy_history, label='FC Train Accuracy')\n",
    "plt.plot(range(1, 6), cnn_train_accuracy_history, label='CNN Train Accuracy')\n",
    "plt.ylim([0.92, 1])\n",
    "plt.xlabel('Epochs')\n",
    "plt.ylabel('Accuracy')\n",
    "plt.title('Training Accuracy with FC and CNN')\n",
    "plt.legend()\n",
    "\n",
    "plt.subplot(1, 2, 2)\n",
    "plt.plot(range(1, 6), fc_val_accuracy_history, label='FC Validation Accuracy')\n",
    "plt.plot(range(1, 6), cnn_val_accuracy_history, label='CNN Validation Accuracy')\n",
    "plt.ylim([0.92, 1])\n",
    "plt.xlabel('Epochs')\n",
    "plt.ylabel('Accuracy')\n",
    "plt.title('Validation Accuracy with FC and CNN')\n",
    "plt.legend()\n",
    "\n",
    "plt.tight_layout()\n",
    "plt.show()"
   ]
  }
 ],
 "metadata": {
  "kernelspec": {
   "display_name": "Python 3",
   "language": "python",
   "name": "python3"
  },
  "language_info": {
   "codemirror_mode": {
    "name": "ipython",
    "version": 3
   },
   "file_extension": ".py",
   "mimetype": "text/x-python",
   "name": "python",
   "nbconvert_exporter": "python",
   "pygments_lexer": "ipython3",
   "version": "3.11.2"
  },
  "orig_nbformat": 4,
  "vscode": {
   "interpreter": {
    "hash": "0a14426722b25adc768cfea782f621c901ff82b6a9f568e699338819587caab5"
   }
  }
 },
 "nbformat": 4,
 "nbformat_minor": 2
}
