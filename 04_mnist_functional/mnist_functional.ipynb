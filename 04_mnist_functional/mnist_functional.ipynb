{
 "cells": [
  {
   "attachments": {},
   "cell_type": "markdown",
   "metadata": {},
   "source": [
    "Import necessary libraries"
   ]
  },
  {
   "cell_type": "code",
   "execution_count": null,
   "metadata": {},
   "outputs": [],
   "source": [
    "import tensorflow as tf\n",
    "from tensorflow.keras.layers import Input, Conv2D, MaxPooling2D, Flatten, Dense\n",
    "from tensorflow.keras.models import Model\n",
    "from tensorflow.keras.datasets import mnist\n",
    "from tensorflow.keras.utils import to_categorical\n",
    "import matplotlib.pyplot as plt\n",
    "import numpy as np"
   ]
  },
  {
   "attachments": {},
   "cell_type": "markdown",
   "metadata": {},
   "source": [
    "Class for kernel plotting"
   ]
  },
  {
   "cell_type": "code",
   "execution_count": null,
   "metadata": {},
   "outputs": [],
   "source": [
    "class PlotKernelCallback(tf.keras.callbacks.Callback):\n",
    "    def on_epoch_end(self, epoch, logs=None):\n",
    "        conv_layers = [layer for layer in self.model.layers if isinstance(layer, tf.keras.layers.Conv2D)]\n",
    "        for i, layer in enumerate(conv_layers):\n",
    "            weights = layer.get_weights()[0]\n",
    "            num_kernels = weights.shape[3]\n",
    "\n",
    "            # Determine how many rows and columns to use for subplots\n",
    "            num_cols = min(8, num_kernels)  # Maximum of 8 kernels per row\n",
    "            num_rows = (num_kernels + num_cols - 1) // num_cols\n",
    "\n",
    "            plt.figure(figsize=(15, num_rows * 3))  # Adjust figsize for better visibility\n",
    "\n",
    "            for j in range(num_kernels):\n",
    "                plt.subplot(num_rows, num_cols, j + 1)\n",
    "                plt.imshow(weights[:, :, 0, j], cmap='viridis')\n",
    "                plt.axis('off')\n",
    "                plt.title(f'Kernel {j + 1}')\n",
    "\n",
    "            plt.suptitle(f'Epoch {epoch + 1}, Layer {i + 1}')\n",
    "            plt.show()"
   ]
  },
  {
   "attachments": {},
   "cell_type": "markdown",
   "metadata": {},
   "source": [
    "Load and preprocess dataset"
   ]
  },
  {
   "cell_type": "code",
   "execution_count": null,
   "metadata": {},
   "outputs": [],
   "source": [
    "(x_train, y_train), (x_test, y_test) = tf.keras.datasets.mnist.load_data()\n",
    "x_train = x_train.reshape(-1, 28, 28, 1).astype('float32') / 255.0\n",
    "x_test = x_test.reshape(-1, 28, 28, 1).astype('float32') / 255.0\n",
    "y_train = to_categorical(y_train, 10)\n",
    "y_test = to_categorical(y_test, 10)"
   ]
  },
  {
   "attachments": {},
   "cell_type": "markdown",
   "metadata": {},
   "source": [
    "Create fully connected network layers"
   ]
  },
  {
   "cell_type": "code",
   "execution_count": null,
   "metadata": {},
   "outputs": [],
   "source": [
    "input_layer_fc = Input(shape=(28, 28, 1))\n",
    "flatten_fc = Flatten()(input_layer_fc)\n",
    "dense1_fc = Dense(128, activation='relu')(flatten_fc)\n",
    "dense2_fc = Dense(64, activation='relu')(dense1_fc)\n",
    "output_layer_fc = Dense(10, activation='softmax')(dense2_fc)\n",
    "fc_model = tf.keras.Model(inputs=input_layer_fc, outputs=output_layer_fc)\n",
    "fc_model.compile(optimizer='adam', loss='categorical_crossentropy', metrics=['accuracy'])"
   ]
  },
  {
   "attachments": {},
   "cell_type": "markdown",
   "metadata": {},
   "source": [
    "Create CNN layers"
   ]
  },
  {
   "cell_type": "code",
   "execution_count": null,
   "metadata": {},
   "outputs": [],
   "source": [
    "input_layer_cnn = Input(shape=(28, 28, 1))\n",
    "conv1 = Conv2D(32, (3, 3), activation='relu')(input_layer_cnn)\n",
    "pool1 = MaxPooling2D((2, 2))(conv1)\n",
    "conv2 = Conv2D(64, (3, 3), activation='relu')(pool1)\n",
    "pool2 = MaxPooling2D((2, 2))(conv2)\n",
    "flatten_cnn = Flatten()(pool2)\n",
    "dense1_cnn = Dense(128, activation='relu')(flatten_cnn)\n",
    "output_layer_cnn = Dense(10, activation='softmax')(dense1_cnn)\n",
    "cnn_model = tf.keras.Model(inputs=input_layer_cnn, outputs=output_layer_cnn)\n",
    "cnn_model.compile(optimizer='adam', loss='categorical_crossentropy', metrics=['accuracy'])"
   ]
  },
  {
   "attachments": {},
   "cell_type": "markdown",
   "metadata": {},
   "source": [
    "Parameters for training and plotting"
   ]
  },
  {
   "cell_type": "code",
   "execution_count": null,
   "metadata": {},
   "outputs": [],
   "source": [
    "epoch_num = 3\n",
    "plot_every_kernel = False # Plots every kernel after each epoch if True "
   ]
  },
  {
   "attachments": {},
   "cell_type": "markdown",
   "metadata": {},
   "source": [
    "Train model"
   ]
  },
  {
   "cell_type": "code",
   "execution_count": null,
   "metadata": {},
   "outputs": [],
   "source": [
    "\n",
    "if plot_every_kernel:\n",
    "    callbacks = [PlotKernelCallback()]\n",
    "else:\n",
    "    callbacks = []\n",
    "\n",
    "fc_train_accuracy_history = []\n",
    "fc_val_accuracy_history = []\n",
    "\n",
    "cnn_train_accuracy_history = []\n",
    "cnn_val_accuracy_history = []\n",
    "\n",
    "for _ in range(epoch_num):\n",
    "    fc_history = fc_model.fit(x_train, y_train, epochs=1, batch_size=32, validation_data=(x_test, y_test))\n",
    "    cnn_history = cnn_model.fit(x_train, y_train, epochs=1, batch_size=32, validation_data=(x_test, y_test), callbacks=callbacks)\n",
    "\n",
    "    fc_train_accuracy_history.append(fc_history.history['accuracy'][0])\n",
    "    cnn_train_accuracy_history.append(cnn_history.history['accuracy'][0])\n",
    "\n",
    "    fc_val_accuracy_history.append(fc_history.history['val_accuracy'][0])\n",
    "    cnn_val_accuracy_history.append(cnn_history.history['val_accuracy'][0])"
   ]
  },
  {
   "attachments": {},
   "cell_type": "markdown",
   "metadata": {},
   "source": [
    "Show results"
   ]
  },
  {
   "cell_type": "code",
   "execution_count": null,
   "metadata": {},
   "outputs": [],
   "source": [
    "plt.figure(figsize=(12, 4))\n",
    "plt.subplot(1, 2, 1)\n",
    "plt.plot(range(1, epoch_num + 1), fc_train_accuracy_history, label='FC Train Accuracy')\n",
    "plt.plot(range(1, epoch_num + 1), cnn_train_accuracy_history, label='CNN Train Accuracy')\n",
    "plt.ylim([0.92, 1])\n",
    "plt.xlabel('Epochs')\n",
    "plt.ylabel('Accuracy')\n",
    "plt.title('Training Accuracy with FC and CNN')\n",
    "plt.legend()\n",
    "\n",
    "plt.subplot(1, 2, 2)\n",
    "plt.plot(range(1, epoch_num + 1), fc_val_accuracy_history, label='FC Validation Accuracy')\n",
    "plt.plot(range(1, epoch_num + 1), cnn_val_accuracy_history, label='CNN Validation Accuracy')\n",
    "plt.ylim([0.92, 1])\n",
    "plt.xlabel('Epochs')\n",
    "plt.ylabel('Accuracy')\n",
    "plt.title('Validation Accuracy with FC and CNN')\n",
    "plt.legend()\n",
    "\n",
    "plt.tight_layout()\n",
    "plt.show()"
   ]
  },
  {
   "attachments": {},
   "cell_type": "markdown",
   "metadata": {},
   "source": [
    "Create parameters for plots"
   ]
  },
  {
   "cell_type": "code",
   "execution_count": null,
   "metadata": {},
   "outputs": [],
   "source": [
    "sample_index = 100 # Change to desired index\n",
    "layer_name = 'conv2d_1'  # Change to the desired layer name"
   ]
  },
  {
   "attachments": {},
   "cell_type": "markdown",
   "metadata": {},
   "source": [
    "Apply kernels on sample image"
   ]
  },
  {
   "cell_type": "code",
   "execution_count": null,
   "metadata": {},
   "outputs": [],
   "source": [
    "def visualize_conv_layer_output(model, image, layer_name, num_cols):\n",
    "\n",
    "    sub_model = tf.keras.models.Model(inputs=model.inputs, outputs=model.get_layer(layer_name).output)\n",
    "\n",
    "    activations = sub_model.predict(np.expand_dims(image, axis=0))\n",
    "\n",
    "    num_filters = activations.shape[-1]\n",
    "    num_rows = (num_filters + num_cols - 1) // num_cols\n",
    "\n",
    "    plt.figure(figsize=(num_cols * 2, num_rows * 2))\n",
    "    for i in range(num_filters):\n",
    "        plt.subplot(num_rows, num_cols, i + 1)\n",
    "        plt.imshow(activations[0, :, :, i], cmap='viridis')\n",
    "        plt.axis('off')\n",
    "        plt.title(f'Filter {i + 1}')\n",
    "\n",
    "    plt.show()\n",
    "\n",
    "\n",
    "num_cols = 8  # Change to the desired number of columns\n",
    "\n",
    "visualize_conv_layer_output(cnn_model, x_train[sample_index], layer_name, num_cols)"
   ]
  },
  {
   "cell_type": "code",
   "execution_count": null,
   "metadata": {},
   "outputs": [],
   "source": [
    "def visualize_kernel_and_result(model, image, layer_name, filter_index = 0):\n",
    "\n",
    "    sub_model = tf.keras.models.Model(inputs=model.inputs, outputs=model.get_layer(layer_name).output)\n",
    "\n",
    "    activations = sub_model.predict(np.expand_dims(image, axis=0))\n",
    "    num_filters = activations.shape[-1]\n",
    "\n",
    "    plt.figure(figsize=(8, 4))\n",
    "\n",
    "    for filter_index in range(num_filters):\n",
    "\n",
    "        kernel_weights = model.get_layer(layer_name).get_weights()[0]\n",
    "        kernel = kernel_weights[:, :, 0, filter_index]\n",
    "  \n",
    "        plt.subplot(1, 2, 1)\n",
    "        plt.imshow(kernel, cmap='viridis')\n",
    "        plt.axis('off')\n",
    "        plt.title(f'Kernel {filter_index + 1}')\n",
    "\n",
    "        plt.subplot(1, 2, 2)\n",
    "        plt.imshow(activations[0, :, :, filter_index], cmap='gray')\n",
    "        plt.axis('off')\n",
    "        plt.title('Filtered Image')\n",
    "\n",
    "        plt.show()\n",
    "\n",
    "visualize_kernel_and_result(cnn_model, x_train[sample_index], layer_name)"
   ]
  }
 ],
 "metadata": {
  "kernelspec": {
   "display_name": "Python 3",
   "language": "python",
   "name": "python3"
  },
  "language_info": {
   "codemirror_mode": {
    "name": "ipython",
    "version": 3
   },
   "file_extension": ".py",
   "mimetype": "text/x-python",
   "name": "python",
   "nbconvert_exporter": "python",
   "pygments_lexer": "ipython3",
   "version": "3.11.2 (tags/v3.11.2:878ead1, Feb  7 2023, 16:38:35) [MSC v.1934 64 bit (AMD64)]"
  },
  "orig_nbformat": 4,
  "vscode": {
   "interpreter": {
    "hash": "0a14426722b25adc768cfea782f621c901ff82b6a9f568e699338819587caab5"
   }
  }
 },
 "nbformat": 4,
 "nbformat_minor": 2
}
