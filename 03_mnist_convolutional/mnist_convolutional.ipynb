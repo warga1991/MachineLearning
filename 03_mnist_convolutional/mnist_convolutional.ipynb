{
 "cells": [
  {
   "attachments": {},
   "cell_type": "markdown",
   "metadata": {},
   "source": [
    "Import necessary libraries."
   ]
  },
  {
   "cell_type": "code",
   "execution_count": 23,
   "metadata": {},
   "outputs": [],
   "source": [
    "import tensorflow as tf\n",
    "from tensorflow import keras\n",
    "from keras.datasets import mnist\n",
    "from keras.models import Sequential\n",
    "from keras.layers import Conv2D, MaxPooling2D, Flatten, Dense\n",
    "from PIL import Image\n",
    "import numpy as np\n",
    "import os\n",
    "import matplotlib.pyplot as plt"
   ]
  },
  {
   "attachments": {},
   "cell_type": "markdown",
   "metadata": {},
   "source": [
    "Get image file names"
   ]
  },
  {
   "cell_type": "code",
   "execution_count": 24,
   "metadata": {},
   "outputs": [
    {
     "name": "stdout",
     "output_type": "stream",
     "text": [
      "['digit0.png', 'digit1.png', 'digit2.png', 'digit3.png', 'digit4.png', 'digit5.png', 'digit6.png', 'digit7.png', 'digit8.png', 'digit9.png']\n"
     ]
    }
   ],
   "source": [
    "image_folder = os.path.abspath('01_own_test_data')\n",
    "image_filenames = os.listdir(image_folder)\n",
    "print(image_filenames)"
   ]
  },
  {
   "attachments": {},
   "cell_type": "markdown",
   "metadata": {},
   "source": [
    "Load in the own test data for model testing"
   ]
  },
  {
   "cell_type": "code",
   "execution_count": 25,
   "metadata": {},
   "outputs": [
    {
     "data": {
      "image/png": "[encoded data removed]",
      "text/plain": [
       "<Figure size 640x480 with 1 Axes>"
      ]
     },
     "metadata": {},
     "output_type": "display_data"
    }
   ],
   "source": [
    "own_test_data = []\n",
    "for filename in image_filenames:\n",
    "    image_path = os.path.join(image_folder, filename)\n",
    "    img = Image.open(image_path).convert('L')  \n",
    "    img = img.resize((28, 28)) \n",
    "    img_array = np.array(img)\n",
    "    img_array = img_array / 255.0  \n",
    "    img_array = img_array[..., np.newaxis]  \n",
    "    own_test_data.append(img_array)\n",
    "\n",
    "own_test_data = np.array(own_test_data)\n",
    "\n",
    "pixels = own_test_data[0].reshape((28, 28))\n",
    "plt.imshow(pixels, cmap='binary')\n",
    "plt.show()\n",
    "\n"
   ]
  },
  {
   "attachments": {},
   "cell_type": "markdown",
   "metadata": {},
   "source": [
    "Get MNIST data and plot"
   ]
  },
  {
   "cell_type": "code",
   "execution_count": 26,
   "metadata": {},
   "outputs": [
    {
     "data": {
      "image/png": "[encoded data removed]",
      "text/plain": [
       "<Figure size 640x480 with 1 Axes>"
      ]
     },
     "metadata": {},
     "output_type": "display_data"
    }
   ],
   "source": [
    "(x_train, y_train), (x_test, y_test) = mnist.load_data()\n",
    "\n",
    "x_train, x_test = x_train / 255.0, x_test / 255.0\n",
    "\n",
    "x_train = x_train[..., tf.newaxis]\n",
    "x_test = x_test[..., tf.newaxis]\n",
    "\n",
    "pixels = x_train[0].reshape((28, 28))\n",
    "plt.imshow(pixels, cmap='binary')\n",
    "plt.show()"
   ]
  },
  {
   "attachments": {},
   "cell_type": "markdown",
   "metadata": {},
   "source": [
    "Create and train model"
   ]
  },
  {
   "cell_type": "code",
   "execution_count": 27,
   "metadata": {},
   "outputs": [],
   "source": [
    "model = Sequential([\n",
    "    Conv2D(32, (3, 3), activation='relu', input_shape=(28, 28, 1)),\n",
    "    MaxPooling2D((2, 2)),\n",
    "    Conv2D(64, (3, 3), activation='relu'),\n",
    "    MaxPooling2D((2, 2)),\n",
    "    Flatten(),\n",
    "    Dense(128, activation='relu'),\n",
    "    Dense(10, activation='softmax')\n",
    "])"
   ]
  },
  {
   "cell_type": "code",
   "execution_count": 28,
   "metadata": {},
   "outputs": [],
   "source": [
    "model.compile(optimizer='adam',\n",
    "              loss='sparse_categorical_crossentropy',\n",
    "              metrics=['accuracy'])"
   ]
  },
  {
   "cell_type": "code",
   "execution_count": 29,
   "metadata": {},
   "outputs": [
    {
     "name": "stdout",
     "output_type": "stream",
     "text": [
      "Epoch 1/3\n",
      "1688/1688 [==============================] - 15s 9ms/step - loss: 0.1338 - accuracy: 0.9593 - val_loss: 0.0782 - val_accuracy: 0.9758\n",
      "Epoch 2/3\n",
      "1688/1688 [==============================] - 15s 9ms/step - loss: 0.0436 - accuracy: 0.9865 - val_loss: 0.0367 - val_accuracy: 0.9893\n",
      "Epoch 3/3\n",
      "1688/1688 [==============================] - 15s 9ms/step - loss: 0.0296 - accuracy: 0.9904 - val_loss: 0.0406 - val_accuracy: 0.9875\n"
     ]
    },
    {
     "data": {
      "text/plain": [
       "<keras.callbacks.History at 0x243a284f010>"
      ]
     },
     "execution_count": 29,
     "metadata": {},
     "output_type": "execute_result"
    }
   ],
   "source": [
    "model.fit(x_train, y_train, epochs=3, batch_size=32, validation_split=0.1)"
   ]
  },
  {
   "attachments": {},
   "cell_type": "markdown",
   "metadata": {},
   "source": [
    "Get results"
   ]
  },
  {
   "cell_type": "code",
   "execution_count": 30,
   "metadata": {},
   "outputs": [
    {
     "name": "stdout",
     "output_type": "stream",
     "text": [
      "313/313 - 1s - loss: 0.0327 - accuracy: 0.9894 - 860ms/epoch - 3ms/step\n",
      "Test accuracy: 0.9894000291824341\n"
     ]
    }
   ],
   "source": [
    "test_loss, test_acc = model.evaluate(x_test, y_test, verbose=2)\n",
    "print(\"Test accuracy:\", test_acc)"
   ]
  },
  {
   "attachments": {},
   "cell_type": "markdown",
   "metadata": {},
   "source": [
    "Use own data to check prediction"
   ]
  },
  {
   "cell_type": "code",
   "execution_count": 31,
   "metadata": {},
   "outputs": [
    {
     "name": "stdout",
     "output_type": "stream",
     "text": [
      "1/1 [==============================] - 0s 50ms/step\n",
      "This number is a 5 and my model thinks it's a 2\n"
     ]
    }
   ],
   "source": [
    "prediction_number = 5\n",
    "sample_to_predict = own_test_data[prediction_number]\n",
    "sample_to_predict = np.expand_dims(sample_to_predict, axis=0)  # Convert to a batch of size 1\n",
    "\n",
    "prediction = model.predict(sample_to_predict)\n",
    "predicted_class = np.argmax(prediction)\n",
    "\n",
    "print(f\"This number is a {prediction_number} and my model thinks it's a {predicted_class}\")"
   ]
  },
  {
   "cell_type": "code",
   "execution_count": 32,
   "metadata": {},
   "outputs": [
    {
     "data": {
      "image/png": "[encoded data removed]",
      "text/plain": [
       "<Figure size 640x480 with 1 Axes>"
      ]
     },
     "metadata": {},
     "output_type": "display_data"
    },
    {
     "name": "stdout",
     "output_type": "stream",
     "text": [
      "1/1 [==============================] - 0s 15ms/step\n",
      "This number is a 5 and my model thinks it's a 2\n"
     ]
    }
   ],
   "source": [
    "prediction_number_index = 500\n",
    "sample_to_predict = x_train[prediction_number]\n",
    "sample_to_predict = np.expand_dims(sample_to_predict, axis=0)  # Convert to a batch of size 1\n",
    "\n",
    "pixels = x_train[prediction_number].reshape((28, 28))\n",
    "plt.imshow(pixels, cmap='binary')\n",
    "plt.show()\n",
    "\n",
    "prediction = model.predict(sample_to_predict)\n",
    "predicted_class = np.argmax(prediction)\n",
    "\n",
    "print(f\"This number is a {prediction_number} and my model thinks it's a {predicted_class}\")"
   ]
  }
 ],
 "metadata": {
  "kernelspec": {
   "display_name": "Python 3",
   "language": "python",
   "name": "python3"
  },
  "language_info": {
   "codemirror_mode": {
    "name": "ipython",
    "version": 3
   },
   "file_extension": ".py",
   "mimetype": "text/x-python",
   "name": "python",
   "nbconvert_exporter": "python",
   "pygments_lexer": "ipython3",
   "version": "3.11.2 (tags/v3.11.2:878ead1, Feb  7 2023, 16:38:35) [MSC v.1934 64 bit (AMD64)]"
  },
  "orig_nbformat": 4,
  "vscode": {
   "interpreter": {
    "hash": "0a14426722b25adc768cfea782f621c901ff82b6a9f568e699338819587caab5"
   }
  }
 },
 "nbformat": 4,
 "nbformat_minor": 2
}
